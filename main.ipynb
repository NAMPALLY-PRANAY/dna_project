{
 "cells": [
  {
   "cell_type": "markdown",
   "id": "85bacff3",
   "metadata": {},
   "source": [
    "## 📊 Building and Comparing Deep Learning Models using Keras & TensorFlow\n",
    "\n",
    "### This guide demonstrates:\n",
    "- How to **build** two CNN models using the **Keras API** in TensorFlow  \n",
    "- How to **train** both models on the **MNIST dataset**  \n",
    "- How to **compare** their performance in terms of **accuracy and validation metrics**\n"
   ]
  },
  {
   "cell_type": "markdown",
   "id": "f2422cea",
   "metadata": {},
   "source": [
    "## 🔧 Step 1: Import Libraries"
   ]
  },
  {
   "cell_type": "code",
   "execution_count": 2,
   "id": "bc93210f",
   "metadata": {},
   "outputs": [],
   "source": [
    "import tensorflow as tf\n",
    "from tensorflow import keras\n",
    "from tensorflow.keras import layers, models\n",
    "from sklearn.model_selection import train_test_split\n",
    "from sklearn.metrics import accuracy_score\n",
    "import numpy as np"
   ]
  },
  {
   "cell_type": "markdown",
   "id": "7ea6cf22",
   "metadata": {},
   "source": [
    "## 📥 Step 2: Prepare the Dataset\n",
    "## Using the MNIST dataset (handwritten digits).\n"
   ]
  },
  {
   "cell_type": "code",
   "execution_count": 3,
   "id": "35b6b19e",
   "metadata": {},
   "outputs": [
    {
     "name": "stdout",
     "output_type": "stream",
     "text": [
      "Downloading data from https://storage.googleapis.com/tensorflow/tf-keras-datasets/mnist.npz\n",
      "\u001b[1m11490434/11490434\u001b[0m \u001b[32m━━━━━━━━━━━━━━━━━━━━\u001b[0m\u001b[37m\u001b[0m \u001b[1m3s\u001b[0m 0us/step\n"
     ]
    }
   ],
   "source": [
    "(x_train, y_train), (x_test, y_test) = keras.datasets.mnist.load_data()\n",
    "x_train = x_train / 255.0\n",
    "x_test = x_test / 255.0\n",
    "\n",
    "# Add channel dimension\n",
    "x_train = x_train[..., np.newaxis]\n",
    "x_test = x_test[..., np.newaxis]"
   ]
  },
  {
   "cell_type": "markdown",
   "id": "4279c8be",
   "metadata": {},
   "source": [
    "## 🧠 Step 3: Build CNN Models\n",
    "## 🔸 Model A: Simple CNN"
   ]
  },
  {
   "cell_type": "code",
   "execution_count": 4,
   "id": "660b11fb",
   "metadata": {},
   "outputs": [],
   "source": [
    "def build_model_A():\n",
    "    model = models.Sequential([\n",
    "        layers.Conv2D(32, (3,3), activation='relu', input_shape=(28,28,1)),\n",
    "        layers.MaxPooling2D((2,2)),\n",
    "        layers.Flatten(),\n",
    "        layers.Dense(64, activation='relu'),\n",
    "        layers.Dense(10, activation='softmax')\n",
    "    ])\n",
    "    model.compile(optimizer='adam', loss='sparse_categorical_crossentropy', metrics=['accuracy'])\n",
    "    return model"
   ]
  },
  {
   "cell_type": "markdown",
   "id": "4e8a50b6",
   "metadata": {},
   "source": [
    "## 🔸 Model B: Deeper CNN with Dropout"
   ]
  },
  {
   "cell_type": "code",
   "execution_count": 5,
   "id": "bcfc2f6a",
   "metadata": {},
   "outputs": [],
   "source": [
    "def build_model_B():\n",
    "    model = models.Sequential([\n",
    "        layers.Conv2D(64, (3,3), activation='relu', input_shape=(28,28,1)),\n",
    "        layers.Conv2D(64, (3,3), activation='relu'),\n",
    "        layers.MaxPooling2D((2,2)),\n",
    "        layers.Dropout(0.25),\n",
    "        layers.Flatten(),\n",
    "        layers.Dense(128, activation='relu'),\n",
    "        layers.Dropout(0.5),\n",
    "        layers.Dense(10, activation='softmax')\n",
    "    ])\n",
    "    model.compile(optimizer='adam', loss='sparse_categorical_crossentropy', metrics=['accuracy'])\n",
    "    return model\n"
   ]
  },
  {
   "cell_type": "markdown",
   "id": "6e7ce1c8",
   "metadata": {},
   "source": [
    "## 🏋️ Step 4: Train the Models"
   ]
  },
  {
   "cell_type": "code",
   "execution_count": 6,
   "id": "80680681",
   "metadata": {},
   "outputs": [
    {
     "name": "stderr",
     "output_type": "stream",
     "text": [
      "c:\\Users\\npran\\OneDrive\\Desktop\\3.1\\DNA\\project\\.venv\\lib\\site-packages\\keras\\src\\layers\\convolutional\\base_conv.py:113: UserWarning: Do not pass an `input_shape`/`input_dim` argument to a layer. When using Sequential models, prefer using an `Input(shape)` object as the first layer in the model instead.\n",
      "  super().__init__(activity_regularizer=activity_regularizer, **kwargs)\n"
     ]
    },
    {
     "name": "stdout",
     "output_type": "stream",
     "text": [
      "Epoch 1/5\n",
      "\u001b[1m1500/1500\u001b[0m \u001b[32m━━━━━━━━━━━━━━━━━━━━\u001b[0m\u001b[37m\u001b[0m \u001b[1m27s\u001b[0m 16ms/step - accuracy: 0.9427 - loss: 0.1917 - val_accuracy: 0.9787 - val_loss: 0.0763\n",
      "Epoch 2/5\n",
      "\u001b[1m1500/1500\u001b[0m \u001b[32m━━━━━━━━━━━━━━━━━━━━\u001b[0m\u001b[37m\u001b[0m \u001b[1m25s\u001b[0m 17ms/step - accuracy: 0.9803 - loss: 0.0642 - val_accuracy: 0.9784 - val_loss: 0.0728\n",
      "Epoch 3/5\n",
      "\u001b[1m1500/1500\u001b[0m \u001b[32m━━━━━━━━━━━━━━━━━━━━\u001b[0m\u001b[37m\u001b[0m \u001b[1m27s\u001b[0m 18ms/step - accuracy: 0.9865 - loss: 0.0433 - val_accuracy: 0.9827 - val_loss: 0.0598\n",
      "Epoch 4/5\n",
      "\u001b[1m1500/1500\u001b[0m \u001b[32m━━━━━━━━━━━━━━━━━━━━\u001b[0m\u001b[37m\u001b[0m \u001b[1m26s\u001b[0m 17ms/step - accuracy: 0.9903 - loss: 0.0305 - val_accuracy: 0.9857 - val_loss: 0.0515\n",
      "Epoch 5/5\n",
      "\u001b[1m1500/1500\u001b[0m \u001b[32m━━━━━━━━━━━━━━━━━━━━\u001b[0m\u001b[37m\u001b[0m \u001b[1m26s\u001b[0m 17ms/step - accuracy: 0.9932 - loss: 0.0216 - val_accuracy: 0.9833 - val_loss: 0.0637\n",
      "Epoch 1/5\n",
      "\u001b[1m1500/1500\u001b[0m \u001b[32m━━━━━━━━━━━━━━━━━━━━\u001b[0m\u001b[37m\u001b[0m \u001b[1m119s\u001b[0m 77ms/step - accuracy: 0.9390 - loss: 0.2014 - val_accuracy: 0.9834 - val_loss: 0.0539\n",
      "Epoch 2/5\n",
      "\u001b[1m1500/1500\u001b[0m \u001b[32m━━━━━━━━━━━━━━━━━━━━\u001b[0m\u001b[37m\u001b[0m \u001b[1m142s\u001b[0m 95ms/step - accuracy: 0.9740 - loss: 0.0873 - val_accuracy: 0.9879 - val_loss: 0.0429\n",
      "Epoch 3/5\n",
      "\u001b[1m1500/1500\u001b[0m \u001b[32m━━━━━━━━━━━━━━━━━━━━\u001b[0m\u001b[37m\u001b[0m \u001b[1m132s\u001b[0m 88ms/step - accuracy: 0.9804 - loss: 0.0633 - val_accuracy: 0.9886 - val_loss: 0.0395\n",
      "Epoch 4/5\n",
      "\u001b[1m1500/1500\u001b[0m \u001b[32m━━━━━━━━━━━━━━━━━━━━\u001b[0m\u001b[37m\u001b[0m \u001b[1m127s\u001b[0m 84ms/step - accuracy: 0.9846 - loss: 0.0503 - val_accuracy: 0.9855 - val_loss: 0.0529\n",
      "Epoch 5/5\n",
      "\u001b[1m1500/1500\u001b[0m \u001b[32m━━━━━━━━━━━━━━━━━━━━\u001b[0m\u001b[37m\u001b[0m \u001b[1m125s\u001b[0m 83ms/step - accuracy: 0.9867 - loss: 0.0422 - val_accuracy: 0.9893 - val_loss: 0.0387\n"
     ]
    }
   ],
   "source": [
    "model_A = build_model_A()\n",
    "model_B = build_model_B()\n",
    "\n",
    "history_A = model_A.fit(x_train, y_train, epochs=5, validation_split=0.2)\n",
    "history_B = model_B.fit(x_train, y_train, epochs=5, validation_split=0.2)"
   ]
  },
  {
   "cell_type": "markdown",
   "id": "9d2907cf",
   "metadata": {},
   "source": [
    "## 📈 Step 5: Evaluate and Compare\n",
    "## ✅ Final Accuracy"
   ]
  },
  {
   "cell_type": "code",
   "execution_count": 7,
   "id": "fba6eddf",
   "metadata": {},
   "outputs": [
    {
     "name": "stdout",
     "output_type": "stream",
     "text": [
      "\u001b[1m313/313\u001b[0m \u001b[32m━━━━━━━━━━━━━━━━━━━━\u001b[0m\u001b[37m\u001b[0m \u001b[1m3s\u001b[0m 7ms/step - accuracy: 0.9830 - loss: 0.0569\n",
      "\u001b[1m313/313\u001b[0m \u001b[32m━━━━━━━━━━━━━━━━━━━━\u001b[0m\u001b[37m\u001b[0m \u001b[1m7s\u001b[0m 21ms/step - accuracy: 0.9904 - loss: 0.0329\n",
      "Model A Accuracy: 0.9829999804496765\n",
      "Model B Accuracy: 0.9904000163078308\n"
     ]
    }
   ],
   "source": [
    "test_loss_A, test_acc_A = model_A.evaluate(x_test, y_test)\n",
    "test_loss_B, test_acc_B = model_B.evaluate(x_test, y_test)\n",
    "\n",
    "print(f\"Model A Accuracy: {test_acc_A}\")\n",
    "print(f\"Model B Accuracy: {test_acc_B}\")"
   ]
  },
  {
   "cell_type": "markdown",
   "id": "e6fd4f07",
   "metadata": {},
   "source": [
    "## 📊 Plotting Validation Accuracy"
   ]
  },
  {
   "cell_type": "code",
   "execution_count": 8,
   "id": "476e36f7",
   "metadata": {},
   "outputs": [
    {
     "data": {
      "image/png": "[encoded data removed]",
      "text/plain": [
       "<Figure size 640x480 with 1 Axes>"
      ]
     },
     "metadata": {},
     "output_type": "display_data"
    }
   ],
   "source": [
    "import matplotlib.pyplot as plt\n",
    "\n",
    "plt.plot(history_A.history['val_accuracy'], label='Model A')\n",
    "plt.plot(history_B.history['val_accuracy'], label='Model B')\n",
    "plt.title('Validation Accuracy Comparison')\n",
    "plt.xlabel('Epoch')\n",
    "plt.ylabel('Accuracy')\n",
    "plt.legend()\n",
    "plt.show()\n"
   ]
  },
  {
   "cell_type": "markdown",
   "id": "12892c1f",
   "metadata": {},
   "source": [
    "# 📊 Model Comparison: MNIST Digit Classification\n",
    "\n",
    "This project compares two convolutional neural network (CNN) models on the MNIST dataset using TensorFlow and Keras.\n",
    "\n",
    "---\n",
    "\n",
    "## ✅ Dataset\n",
    "\n",
    "- **MNIST**: Handwritten digits (28x28 grayscale images)\n",
    "- **Classes**: 10 (digits 0–9)\n",
    "- **Train/Test Split**: 60,000 training and 10,000 test images\n",
    "\n",
    "---\n",
    "\n",
    "## 🧠 Model Architectures\n",
    "\n",
    "### 🔸 Model A: Simple CNN\n",
    "- 1 Convolutional layer\n",
    "- MaxPooling\n",
    "- Dense layer (64 units)\n",
    "- Output layer (10 classes, softmax)\n",
    "\n",
    "### 🔸 Model B: Deeper CNN with Dropout\n",
    "- 2 Convolutional layers\n",
    "- MaxPooling\n",
    "- Dropout (0.25 and 0.5)\n",
    "- Dense layer (128 units)\n",
    "- Output layer (10 classes, softmax)\n",
    "\n",
    "---\n",
    "\n",
    "## 🏋️ Training Setup\n",
    "\n",
    "- **Epochs**: 5\n",
    "- **Validation Split**: 20%\n",
    "- **Optimizer**: Adam\n",
    "- **Loss**: Sparse Categorical Crossentropy\n",
    "- **Metric**: Accuracy\n",
    "\n",
    "---\n",
    "\n",
    "## 📈 Evaluation Results\n",
    "\n",
    "| Model     | Test Accuracy |\n",
    "|-----------|----------------|\n",
    "| Model A   | 98.29999804496765 %         |\n",
    "| Model B   | 99.04000163078308 %   |\n",
    "\n",
    "---\n",
    "\n",
    "## 📊 Validation Accuracy Comparison\n",
    "\n",
    "- Model B showed better generalization and higher validation accuracy.\n",
    "- Dropout in Model B reduced overfitting compared to Model A.\n",
    "\n",
    "---\n",
    "\n",
    "## 📌 Conclusion\n",
    "\n",
    "- **Model A** is suitable for quick experiments or lightweight applications.\n",
    "- **Model B** is better for higher accuracy and production use due to deeper architecture and regularization.\n",
    "\n",
    "---\n",
    "\n",
    "> Further improvements could include Batch Normalization, Data Augmentation, or Hyperparameter Tuning.\n"
   ]
  }
 ],
 "metadata": {
  "kernelspec": {
   "display_name": ".venv",
   "language": "python",
   "name": "python3"
  },
  "language_info": {
   "codemirror_mode": {
    "name": "ipython",
    "version": 3
   },
   "file_extension": ".py",
   "mimetype": "text/x-python",
   "name": "python",
   "nbconvert_exporter": "python",
   "pygments_lexer": "ipython3",
   "version": "3.10.11"
  }
 },
 "nbformat": 4,
 "nbformat_minor": 5
}
